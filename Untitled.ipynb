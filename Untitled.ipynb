{
 "cells": [
  {
   "cell_type": "code",
   "execution_count": 3,
   "metadata": {
    "collapsed": false
   },
   "outputs": [
    {
     "data": {
      "text/plain": [
       "(1710, 204)"
      ]
     },
     "execution_count": 3,
     "metadata": {},
     "output_type": "execute_result"
    }
   ],
   "source": [
    "import pandas as pd\n",
    "df = pd.read_csv('data\\SIMA SAPPHIRE1710.csv')\n",
    "df.shape"
   ]
  },
  {
   "cell_type": "code",
   "execution_count": 2,
   "metadata": {
    "collapsed": false
   },
   "outputs": [
    {
     "data": {
      "text/plain": [
       "1710"
      ]
     },
     "execution_count": 2,
     "metadata": {},
     "output_type": "execute_result"
    }
   ],
   "source": [
    "df.shape[0]"
   ]
  },
  {
   "cell_type": "code",
   "execution_count": 3,
   "metadata": {
    "collapsed": false
   },
   "outputs": [
    {
     "name": "stdout",
     "output_type": "stream",
     "text": [
      "['SwellHeight', 'SetDirection', 'SwellDirection', 'ComputedDraftFwd', 'ComputedDraftAft', 'WindSeaHeight', 'WindForce', 'WindDirection', 'ShipSpeedMadeGood', 'ComputedDraftMid', 'VisualDraftAft', 'VisualDraftFwd', 'VisualDraftMid', 'CurrentGpsShipSpeed', 'AvgSeaSpeed', 'EngineSpeed', 'CurrentSetEngineRPM', 'TotalPropulsionPower', 'ETABasedOnSpeedMadeGood', 'SpeedRequiredToETAPilot', 'BufferTimeForSpeedReduction']\n"
     ]
    }
   ],
   "source": [
    "df = df.loc[df['Mode'] == 'Sea']\n",
    "df_col = [col for col in df.columns if 'Swell' in col \n",
    "                                    or 'Draft' in col \n",
    "                                    or 'Wind' in col \n",
    "                                    or 'Set' in col \n",
    "                                    or 'direction' in col\n",
    "                                    or 'Speed' in col\n",
    "                                    or 'TotalPropulsionPower' in col]\n",
    "print(df_col)\n",
    "df[df_col].to_csv('data/SIMA'+str(df.shape[0])+'.csv', index=False)"
   ]
  },
  {
   "cell_type": "code",
   "execution_count": 1,
   "metadata": {
    "collapsed": true
   },
   "outputs": [],
   "source": [
    "import numpy as np\n",
    "from sklearn import preprocessing\n",
    "import math"
   ]
  },
  {
   "cell_type": "code",
   "execution_count": 70,
   "metadata": {
    "collapsed": true
   },
   "outputs": [],
   "source": [
    "ship_df = pd.read_csv('data/SI.csv')"
   ]
  },
  {
   "cell_type": "code",
   "execution_count": 71,
   "metadata": {
    "collapsed": true
   },
   "outputs": [],
   "source": [
    "ship_df.dropna(axis=0, thresh=5)\n",
    "ship_df.to_csv('check.csv', index=False)\n",
    "unit = 360 / 16.0\n",
    "diraction = list('ABCDEFGH')\n",
    "diraction1 = ['AB', 'BC', 'CD', 'DE', 'EF', 'FG', 'GH', 'HA']\n",
    "diraction = list(zip(diraction, diraction1))\n",
    "diraction2 = []\n",
    "for a, b in diraction:\n",
    "    diraction2.append(a)\n",
    "    diraction2.append(b)\n",
    "diraction = diraction2\n",
    "\n",
    "meter2angle = {t: float(unit* i) for i, t in enumerate(diraction)}\n",
    "\n",
    "#when the meter is Nil, set angle is 1 since 1 does not have any impact to a equation\n",
    "meter2angle.update({'Nil': 0})"
   ]
  },
  {
   "cell_type": "code",
   "execution_count": 72,
   "metadata": {
    "collapsed": true
   },
   "outputs": [],
   "source": [
    "def meter_to_angle(df, col_name, reference):\n",
    "    for idx, meter in dict(df[col_name]).iteritems():\n",
    "        if meter == meter:\n",
    "            try:\n",
    "                df.loc[idx, col_name] = reference[meter]\n",
    "            except:\n",
    "                raise Exception('in {} row {} column, the value is {}'.format(idx, col_name, meter))\n",
    "    return None"
   ]
  },
  {
   "cell_type": "code",
   "execution_count": 73,
   "metadata": {
    "collapsed": false,
    "scrolled": true
   },
   "outputs": [
    {
     "data": {
      "text/html": [
       "<div>\n",
       "<style>\n",
       "    .dataframe thead tr:only-child th {\n",
       "        text-align: right;\n",
       "    }\n",
       "\n",
       "    .dataframe thead th {\n",
       "        text-align: left;\n",
       "    }\n",
       "\n",
       "    .dataframe tbody tr th {\n",
       "        vertical-align: top;\n",
       "    }\n",
       "</style>\n",
       "<table border=\"1\" class=\"dataframe\">\n",
       "  <thead>\n",
       "    <tr style=\"text-align: right;\">\n",
       "      <th></th>\n",
       "      <th>SetDirection</th>\n",
       "      <th>SwellHeight</th>\n",
       "      <th>SwellDirection</th>\n",
       "      <th>ComputedDraftFwd</th>\n",
       "      <th>ComputedDraftAft</th>\n",
       "      <th>WindForce</th>\n",
       "      <th>WindDirection</th>\n",
       "      <th>CurrentGpsShipSpeed</th>\n",
       "      <th>TotalPropulsionPower</th>\n",
       "    </tr>\n",
       "  </thead>\n",
       "  <tbody>\n",
       "    <tr>\n",
       "      <th>0</th>\n",
       "      <td>45</td>\n",
       "      <td>0.3</td>\n",
       "      <td>45</td>\n",
       "      <td>7.00</td>\n",
       "      <td>9.00</td>\n",
       "      <td>1.0</td>\n",
       "      <td>225</td>\n",
       "      <td>12.0</td>\n",
       "      <td>NaN</td>\n",
       "    </tr>\n",
       "    <tr>\n",
       "      <th>1</th>\n",
       "      <td>135</td>\n",
       "      <td>0.5</td>\n",
       "      <td>135</td>\n",
       "      <td>5.80</td>\n",
       "      <td>7.45</td>\n",
       "      <td>3.0</td>\n",
       "      <td>135</td>\n",
       "      <td>18.0</td>\n",
       "      <td>NaN</td>\n",
       "    </tr>\n",
       "    <tr>\n",
       "      <th>2</th>\n",
       "      <td>180</td>\n",
       "      <td>1.0</td>\n",
       "      <td>180</td>\n",
       "      <td>6.00</td>\n",
       "      <td>8.10</td>\n",
       "      <td>3.0</td>\n",
       "      <td>180</td>\n",
       "      <td>13.5</td>\n",
       "      <td>6783.0</td>\n",
       "    </tr>\n",
       "    <tr>\n",
       "      <th>3</th>\n",
       "      <td>0</td>\n",
       "      <td>0.4</td>\n",
       "      <td>225</td>\n",
       "      <td>7.00</td>\n",
       "      <td>8.20</td>\n",
       "      <td>1.0</td>\n",
       "      <td>225</td>\n",
       "      <td>12.4</td>\n",
       "      <td>5047.0</td>\n",
       "    </tr>\n",
       "    <tr>\n",
       "      <th>4</th>\n",
       "      <td>135</td>\n",
       "      <td>1.0</td>\n",
       "      <td>90</td>\n",
       "      <td>4.20</td>\n",
       "      <td>7.50</td>\n",
       "      <td>3.0</td>\n",
       "      <td>180</td>\n",
       "      <td>13.0</td>\n",
       "      <td>5425.0</td>\n",
       "    </tr>\n",
       "    <tr>\n",
       "      <th>5</th>\n",
       "      <td>315</td>\n",
       "      <td>0.1</td>\n",
       "      <td>90</td>\n",
       "      <td>6.13</td>\n",
       "      <td>8.63</td>\n",
       "      <td>1.0</td>\n",
       "      <td>90</td>\n",
       "      <td>NaN</td>\n",
       "      <td>NaN</td>\n",
       "    </tr>\n",
       "    <tr>\n",
       "      <th>6</th>\n",
       "      <td>135</td>\n",
       "      <td>0.1</td>\n",
       "      <td>225</td>\n",
       "      <td>6.20</td>\n",
       "      <td>8.50</td>\n",
       "      <td>2.0</td>\n",
       "      <td>225</td>\n",
       "      <td>12.8</td>\n",
       "      <td>5688.0</td>\n",
       "    </tr>\n",
       "    <tr>\n",
       "      <th>7</th>\n",
       "      <td>135</td>\n",
       "      <td>0.5</td>\n",
       "      <td>135</td>\n",
       "      <td>6.22</td>\n",
       "      <td>7.92</td>\n",
       "      <td>4.0</td>\n",
       "      <td>135</td>\n",
       "      <td>12.0</td>\n",
       "      <td>NaN</td>\n",
       "    </tr>\n",
       "    <tr>\n",
       "      <th>8</th>\n",
       "      <td>0</td>\n",
       "      <td>1.5</td>\n",
       "      <td>0</td>\n",
       "      <td>7.50</td>\n",
       "      <td>8.40</td>\n",
       "      <td>4.0</td>\n",
       "      <td>0</td>\n",
       "      <td>16.7</td>\n",
       "      <td>7030.0</td>\n",
       "    </tr>\n",
       "    <tr>\n",
       "      <th>9</th>\n",
       "      <td>135</td>\n",
       "      <td>0.1</td>\n",
       "      <td>180</td>\n",
       "      <td>6.20</td>\n",
       "      <td>8.50</td>\n",
       "      <td>2.0</td>\n",
       "      <td>180</td>\n",
       "      <td>12.7</td>\n",
       "      <td>NaN</td>\n",
       "    </tr>\n",
       "    <tr>\n",
       "      <th>10</th>\n",
       "      <td>180</td>\n",
       "      <td>0.4</td>\n",
       "      <td>180</td>\n",
       "      <td>8.07</td>\n",
       "      <td>8.04</td>\n",
       "      <td>3.0</td>\n",
       "      <td>180</td>\n",
       "      <td>1.3</td>\n",
       "      <td>NaN</td>\n",
       "    </tr>\n",
       "    <tr>\n",
       "      <th>11</th>\n",
       "      <td>337.5</td>\n",
       "      <td>2.0</td>\n",
       "      <td>135</td>\n",
       "      <td>6.61</td>\n",
       "      <td>7.84</td>\n",
       "      <td>6.0</td>\n",
       "      <td>135</td>\n",
       "      <td>10.9</td>\n",
       "      <td>4498.0</td>\n",
       "    </tr>\n",
       "    <tr>\n",
       "      <th>12</th>\n",
       "      <td>180</td>\n",
       "      <td>1.0</td>\n",
       "      <td>180</td>\n",
       "      <td>6.20</td>\n",
       "      <td>8.00</td>\n",
       "      <td>5.0</td>\n",
       "      <td>180</td>\n",
       "      <td>12.4</td>\n",
       "      <td>5537.0</td>\n",
       "    </tr>\n",
       "    <tr>\n",
       "      <th>13</th>\n",
       "      <td>157.5</td>\n",
       "      <td>4.0</td>\n",
       "      <td>225</td>\n",
       "      <td>6.90</td>\n",
       "      <td>8.00</td>\n",
       "      <td>6.0</td>\n",
       "      <td>225</td>\n",
       "      <td>13.0</td>\n",
       "      <td>5795.0</td>\n",
       "    </tr>\n",
       "    <tr>\n",
       "      <th>14</th>\n",
       "      <td>270</td>\n",
       "      <td>1.5</td>\n",
       "      <td>90</td>\n",
       "      <td>6.65</td>\n",
       "      <td>8.00</td>\n",
       "      <td>5.0</td>\n",
       "      <td>90</td>\n",
       "      <td>13.6</td>\n",
       "      <td>7801.0</td>\n",
       "    </tr>\n",
       "    <tr>\n",
       "      <th>15</th>\n",
       "      <td>0</td>\n",
       "      <td>5.0</td>\n",
       "      <td>0</td>\n",
       "      <td>8.09</td>\n",
       "      <td>9.08</td>\n",
       "      <td>6.0</td>\n",
       "      <td>0</td>\n",
       "      <td>17.1</td>\n",
       "      <td>11049.0</td>\n",
       "    </tr>\n",
       "    <tr>\n",
       "      <th>16</th>\n",
       "      <td>0</td>\n",
       "      <td>1.2</td>\n",
       "      <td>180</td>\n",
       "      <td>7.70</td>\n",
       "      <td>8.69</td>\n",
       "      <td>2.0</td>\n",
       "      <td>180</td>\n",
       "      <td>15.7</td>\n",
       "      <td>7458.0</td>\n",
       "    </tr>\n",
       "    <tr>\n",
       "      <th>17</th>\n",
       "      <td>270</td>\n",
       "      <td>2.0</td>\n",
       "      <td>270</td>\n",
       "      <td>NaN</td>\n",
       "      <td>NaN</td>\n",
       "      <td>5.0</td>\n",
       "      <td>NaN</td>\n",
       "      <td>NaN</td>\n",
       "      <td>NaN</td>\n",
       "    </tr>\n",
       "    <tr>\n",
       "      <th>18</th>\n",
       "      <td>315</td>\n",
       "      <td>0.5</td>\n",
       "      <td>225</td>\n",
       "      <td>7.40</td>\n",
       "      <td>8.80</td>\n",
       "      <td>2.0</td>\n",
       "      <td>225</td>\n",
       "      <td>NaN</td>\n",
       "      <td>NaN</td>\n",
       "    </tr>\n",
       "    <tr>\n",
       "      <th>19</th>\n",
       "      <td>315</td>\n",
       "      <td>0.5</td>\n",
       "      <td>135</td>\n",
       "      <td>6.20</td>\n",
       "      <td>7.80</td>\n",
       "      <td>4.0</td>\n",
       "      <td>135</td>\n",
       "      <td>NaN</td>\n",
       "      <td>NaN</td>\n",
       "    </tr>\n",
       "  </tbody>\n",
       "</table>\n",
       "</div>"
      ],
      "text/plain": [
       "   SetDirection  SwellHeight SwellDirection  ComputedDraftFwd  \\\n",
       "0            45          0.3             45              7.00   \n",
       "1           135          0.5            135              5.80   \n",
       "2           180          1.0            180              6.00   \n",
       "3             0          0.4            225              7.00   \n",
       "4           135          1.0             90              4.20   \n",
       "5           315          0.1             90              6.13   \n",
       "6           135          0.1            225              6.20   \n",
       "7           135          0.5            135              6.22   \n",
       "8             0          1.5              0              7.50   \n",
       "9           135          0.1            180              6.20   \n",
       "10          180          0.4            180              8.07   \n",
       "11        337.5          2.0            135              6.61   \n",
       "12          180          1.0            180              6.20   \n",
       "13        157.5          4.0            225              6.90   \n",
       "14          270          1.5             90              6.65   \n",
       "15            0          5.0              0              8.09   \n",
       "16            0          1.2            180              7.70   \n",
       "17          270          2.0            270               NaN   \n",
       "18          315          0.5            225              7.40   \n",
       "19          315          0.5            135              6.20   \n",
       "\n",
       "    ComputedDraftAft  WindForce WindDirection  CurrentGpsShipSpeed  \\\n",
       "0               9.00        1.0           225                 12.0   \n",
       "1               7.45        3.0           135                 18.0   \n",
       "2               8.10        3.0           180                 13.5   \n",
       "3               8.20        1.0           225                 12.4   \n",
       "4               7.50        3.0           180                 13.0   \n",
       "5               8.63        1.0            90                  NaN   \n",
       "6               8.50        2.0           225                 12.8   \n",
       "7               7.92        4.0           135                 12.0   \n",
       "8               8.40        4.0             0                 16.7   \n",
       "9               8.50        2.0           180                 12.7   \n",
       "10              8.04        3.0           180                  1.3   \n",
       "11              7.84        6.0           135                 10.9   \n",
       "12              8.00        5.0           180                 12.4   \n",
       "13              8.00        6.0           225                 13.0   \n",
       "14              8.00        5.0            90                 13.6   \n",
       "15              9.08        6.0             0                 17.1   \n",
       "16              8.69        2.0           180                 15.7   \n",
       "17               NaN        5.0           NaN                  NaN   \n",
       "18              8.80        2.0           225                  NaN   \n",
       "19              7.80        4.0           135                  NaN   \n",
       "\n",
       "    TotalPropulsionPower  \n",
       "0                    NaN  \n",
       "1                    NaN  \n",
       "2                 6783.0  \n",
       "3                 5047.0  \n",
       "4                 5425.0  \n",
       "5                    NaN  \n",
       "6                 5688.0  \n",
       "7                    NaN  \n",
       "8                 7030.0  \n",
       "9                    NaN  \n",
       "10                   NaN  \n",
       "11                4498.0  \n",
       "12                5537.0  \n",
       "13                5795.0  \n",
       "14                7801.0  \n",
       "15               11049.0  \n",
       "16                7458.0  \n",
       "17                   NaN  \n",
       "18                   NaN  \n",
       "19                   NaN  "
      ]
     },
     "execution_count": 73,
     "metadata": {},
     "output_type": "execute_result"
    }
   ],
   "source": [
    "\n",
    "for col in ['SetDirection', 'WindDirection', 'SwellDirection']:\n",
    "    meter_to_angle(ship_df, col, meter2angle)\n",
    "ship_df.head(n=20)"
   ]
  },
  {
   "cell_type": "code",
   "execution_count": 76,
   "metadata": {
    "collapsed": false
   },
   "outputs": [
    {
     "data": {
      "text/html": [
       "<div>\n",
       "<style>\n",
       "    .dataframe thead tr:only-child th {\n",
       "        text-align: right;\n",
       "    }\n",
       "\n",
       "    .dataframe thead th {\n",
       "        text-align: left;\n",
       "    }\n",
       "\n",
       "    .dataframe tbody tr th {\n",
       "        vertical-align: top;\n",
       "    }\n",
       "</style>\n",
       "<table border=\"1\" class=\"dataframe\">\n",
       "  <thead>\n",
       "    <tr style=\"text-align: right;\">\n",
       "      <th></th>\n",
       "      <th>SetDirection</th>\n",
       "      <th>SwellHeight</th>\n",
       "      <th>SwellDirection</th>\n",
       "      <th>ComputedDraftFwd</th>\n",
       "      <th>ComputedDraftAft</th>\n",
       "      <th>WindForce</th>\n",
       "      <th>WindDirection</th>\n",
       "      <th>CurrentGpsShipSpeed</th>\n",
       "      <th>TotalPropulsionPower</th>\n",
       "      <th>ComputedDraftMid</th>\n",
       "    </tr>\n",
       "  </thead>\n",
       "  <tbody>\n",
       "    <tr>\n",
       "      <th>0</th>\n",
       "      <td>45</td>\n",
       "      <td>0.3</td>\n",
       "      <td>45</td>\n",
       "      <td>7.0</td>\n",
       "      <td>9.00</td>\n",
       "      <td>1.0</td>\n",
       "      <td>225</td>\n",
       "      <td>12.0</td>\n",
       "      <td>NaN</td>\n",
       "      <td>8.000</td>\n",
       "    </tr>\n",
       "    <tr>\n",
       "      <th>1</th>\n",
       "      <td>135</td>\n",
       "      <td>0.5</td>\n",
       "      <td>135</td>\n",
       "      <td>5.8</td>\n",
       "      <td>7.45</td>\n",
       "      <td>3.0</td>\n",
       "      <td>135</td>\n",
       "      <td>18.0</td>\n",
       "      <td>NaN</td>\n",
       "      <td>6.625</td>\n",
       "    </tr>\n",
       "    <tr>\n",
       "      <th>2</th>\n",
       "      <td>180</td>\n",
       "      <td>1.0</td>\n",
       "      <td>180</td>\n",
       "      <td>6.0</td>\n",
       "      <td>8.10</td>\n",
       "      <td>3.0</td>\n",
       "      <td>180</td>\n",
       "      <td>13.5</td>\n",
       "      <td>6783.0</td>\n",
       "      <td>7.050</td>\n",
       "    </tr>\n",
       "  </tbody>\n",
       "</table>\n",
       "</div>"
      ],
      "text/plain": [
       "  SetDirection  SwellHeight SwellDirection  ComputedDraftFwd  \\\n",
       "0           45          0.3             45               7.0   \n",
       "1          135          0.5            135               5.8   \n",
       "2          180          1.0            180               6.0   \n",
       "\n",
       "   ComputedDraftAft  WindForce WindDirection  CurrentGpsShipSpeed  \\\n",
       "0              9.00        1.0           225                 12.0   \n",
       "1              7.45        3.0           135                 18.0   \n",
       "2              8.10        3.0           180                 13.5   \n",
       "\n",
       "   TotalPropulsionPower  ComputedDraftMid  \n",
       "0                   NaN             8.000  \n",
       "1                   NaN             6.625  \n",
       "2                6783.0             7.050  "
      ]
     },
     "execution_count": 76,
     "metadata": {},
     "output_type": "execute_result"
    }
   ],
   "source": [
    "ship_df.loc[:2, :]"
   ]
  },
  {
   "cell_type": "code",
   "execution_count": 74,
   "metadata": {
    "collapsed": true
   },
   "outputs": [],
   "source": [
    "for idx in range(len(ship_df)):\n",
    "    ship_df.loc[idx, 'ComputedDraftMid'] = (ship_df.loc[idx, 'ComputedDraftFwd'] + ship_df.loc[idx, 'ComputedDraftAft']) / 2.0\n",
    "final = ship_df.dropna(how='any')"
   ]
  },
  {
   "cell_type": "code",
   "execution_count": 4,
   "metadata": {
    "collapsed": true,
    "scrolled": true
   },
   "outputs": [],
   "source": [
    "input_ = pd.read_csv('final.csv')"
   ]
  },
  {
   "cell_type": "code",
   "execution_count": 6,
   "metadata": {
    "collapsed": false
   },
   "outputs": [
    {
     "name": "stdout",
     "output_type": "stream",
     "text": [
      "166\n",
      "202\n"
     ]
    },
    {
     "data": {
      "text/plain": [
       "(167, 8)"
      ]
     },
     "execution_count": 6,
     "metadata": {},
     "output_type": "execute_result"
    }
   ],
   "source": [
    "#train_prop = 0.7\n",
    "#vali_prop = 0.15\n",
    "#test_prop = 0.15\n",
    "train_val = int(0.7 * len(input_))\n",
    "print(train_val)\n",
    "val_test = int(0.85 * len(input_))\n",
    "print(val_test)\n",
    "train_df = input_.loc[:train_val, :]\n",
    "val_df = input_.loc[train_val:val_test, :]\n",
    "test_df = input_.loc[val_test:, :]\n",
    "train_df.shape"
   ]
  },
  {
   "cell_type": "code",
   "execution_count": 7,
   "metadata": {
    "collapsed": true
   },
   "outputs": [],
   "source": [
    "train_features, train_targets = train_df.loc[:, train_df.columns[:-1]], train_df.loc[:, train_df.columns[-1:]]\n",
    "val_features, val_targets = val_df.loc[:, val_df.columns[:-1]], val_df.loc[:, val_df.columns[-1:]]\n",
    "test_features, test_targets = test_df.loc[:, test_df.columns[:-1]], test_df.loc[:, val_df.columns[-1:]]"
   ]
  },
  {
   "cell_type": "code",
   "execution_count": 10,
   "metadata": {
    "collapsed": false
   },
   "outputs": [
    {
     "name": "stdout",
     "output_type": "stream",
     "text": [
      "train feature shape (167, 7), train target shape (167, 1)\n",
      "validation feature shape (37, 7), validation target shape (37, 1)\n",
      "test feature shape (36, 7), test target shape (36, 1)\n"
     ]
    }
   ],
   "source": [
    "print('train feature shape {}, train target shape {}'.format(train_features.shape, train_targets.shape))\n",
    "print('validation feature shape {}, validation target shape {}'.format(val_features.shape, val_targets.shape))\n",
    "print('test feature shape {}, test target shape {}').format(test_features.shape, test_targets.shape)"
   ]
  },
  {
   "cell_type": "code",
   "execution_count": 33,
   "metadata": {
    "collapsed": true
   },
   "outputs": [],
   "source": [
    "class NeuralNetwork(object):\n",
    "    def __init__(self, input_nodes, hidden_nodes, output_nodes, learning_rate):\n",
    "        # Set number of nodes in input, hidden and output layers.\n",
    "        self.input_nodes = input_nodes\n",
    "        self.hidden_nodes = hidden_nodes\n",
    "        self.output_nodes = output_nodes\n",
    "\n",
    "        # Initialize weights\n",
    "        self.weights_input_to_hidden = np.random.normal(0.0, self.input_nodes**-0.5, \n",
    "                                       (self.input_nodes, self.hidden_nodes))\n",
    "\n",
    "        self.weights_hidden_to_output = np.random.normal(0.0, self.hidden_nodes**-0.5, \n",
    "                                       (self.hidden_nodes, self.output_nodes))\n",
    "        self.lr = learning_rate\n",
    "        \n",
    "        #### TODO: Set self.activation_function to your implemented sigmoid function ####\n",
    "        #\n",
    "        # Note: in Python, you can define a function with a lambda expression,\n",
    "        # as shown below.\n",
    "        self.activation_function = lambda x : 1/(1 + np.exp(-x))  \n",
    "        # Replace 0 with your sigmoid calculation.\n",
    "        \n",
    "        ### If the lambda code above is not something you're familiar with,\n",
    "        # You can uncomment out the following three lines and put your \n",
    "        # implementation there instead.\n",
    "        #\n",
    "        #def sigmoid(x):\n",
    "        #    return 0  # Replace 0 with your sigmoid calculation here\n",
    "        #self.activation_function = sigmoid\n",
    "                    \n",
    "    \n",
    "    def train(self, features, targets):\n",
    "        ''' Train the network on batch of features and targets. \n",
    "        \n",
    "            Arguments\n",
    "            ---------\n",
    "            \n",
    "            features: 2D array, each row is one data record, each column is a feature\n",
    "            targets: 1D array of target values\n",
    "        \n",
    "        '''\n",
    "        \n",
    "        learnrate = self.lr\n",
    "        n_records = features.shape[0]\n",
    "        weights_input_hidden = self.weights_input_to_hidden\n",
    "        weights_hidden_outputs = self.weights_hidden_to_output\n",
    "        delta_weights_i_h = np.zeros(weights_input_hidden.shape)\n",
    "        delta_weights_h_o = np.zeros(weights_hidden_outputs.shape)\n",
    "        sigmoid = self.activation_function\n",
    "        for X, y in zip(features, targets):\n",
    "            #### Implement the forward pass here ####\n",
    "            ### Forward pass ###\n",
    "            # TODO: Hidden layer - Replace these values with your calculations.\n",
    "            hidden_inputs = X.dot(weights_input_hidden) # signals into hidden layer\n",
    "            hidden_outputs = sigmoid(hidden_inputs) # signals from hidden layer\n",
    "\n",
    "            # TODO: Output layer - Replace these values with your calculations.\n",
    "            final_inputs = hidden_outputs.dot(weights_hidden_outputs) # signals into final output layer\n",
    "            final_outputs = final_inputs # signals from final output layer\n",
    "            \n",
    "            #### Implement the backward pass here ####\n",
    "            ### Backward pass ###\n",
    "\n",
    "            # TODO: Output error - Replace this value with your calculations.\n",
    "            error = y - final_outputs \n",
    "            output_error_term = error \n",
    "            # Output layer error is the difference between desired target and actual output.\n",
    "            \n",
    "            # TODO: Calculate the hidden layer's contribution to the error\n",
    "            hidden_error = np.dot(weights_hidden_outputs, output_error_term)\n",
    "            \n",
    "            # TODO: Backpropagated error terms - Replace these values with your calculations.\n",
    "\n",
    "            hidden_error_term = hidden_error * hidden_outputs * (1 - hidden_outputs)\n",
    "            \n",
    "            # Weight step (input to hidden)\n",
    "            delta_weights_i_h += hidden_error_term * X[:,None]\n",
    "            # Weight step (hidden to output)\n",
    "            delta_weights_h_o += output_error_term * hidden_outputs[:,None]\n",
    "\n",
    "        # TODO: Update the weights - Replace these values with your calculations.\n",
    "        self.weights_hidden_to_output += delta_weights_h_o * learnrate / n_records\n",
    "        # update hidden-to-output weights with gradient descent step\n",
    "        self.weights_input_to_hidden +=  delta_weights_i_h * learnrate / n_records\n",
    "        # update input-to-hidden weights with gradient descent step\n",
    " \n",
    "    def run(self, inputs):\n",
    "        sigmoid = self.activation_function   \n",
    "        weights_input_hidden = self.weights_input_to_hidden\n",
    "        weights_hidden_outputs = self.weights_hidden_to_output\n",
    "        #### Implement the forward pass here ####\n",
    "        # TODO: Hidden layer - replace these values with the appropriate calculations.\n",
    "        hidden_inputs = np.dot(inputs, weights_input_hidden) # signals into hidden layer\n",
    "        hidden_outputs = sigmoid(hidden_inputs) # signals from hidden layer\n",
    "        \n",
    "        # TODO: Output layer - Replace these values with the appropriate calculations.\n",
    "        final_inputs = hidden_outputs.dot(self.weights_hidden_to_output) # signals into final output layer\n",
    "        final_outputs = final_inputs # signals from final output layer \n",
    "        return final_outputs\n",
    "    \n",
    "    "
   ]
  },
  {
   "cell_type": "code",
   "execution_count": 34,
   "metadata": {
    "collapsed": true
   },
   "outputs": [],
   "source": [
    "def MSE(y, Y):\n",
    "    return np.mean((y-Y)**2)"
   ]
  },
  {
   "cell_type": "code",
   "execution_count": 37,
   "metadata": {
    "collapsed": false
   },
   "outputs": [
    {
     "name": "stdout",
     "output_type": "stream",
     "text": [
      "Progress: 0.3% ... Training loss: 2.773 ... Validation loss: 2.773"
     ]
    },
    {
     "name": "stderr",
     "output_type": "stream",
     "text": [
      "C:\\Anaconda3\\envs\\ship\\lib\\site-packages\\ipykernel_launcher.py:20: RuntimeWarning: overflow encountered in exp\n"
     ]
    },
    {
     "name": "stdout",
     "output_type": "stream",
     "text": [
      "Progress: 3.3% ... Training loss: nan ... Validation loss: nan4835"
     ]
    },
    {
     "name": "stderr",
     "output_type": "stream",
     "text": [
      "C:\\Anaconda3\\envs\\ship\\lib\\site-packages\\ipykernel_launcher.py:2: RuntimeWarning: overflow encountered in square\n",
      "  \n",
      "C:\\Anaconda3\\envs\\ship\\lib\\site-packages\\ipykernel_launcher.py:74: RuntimeWarning: invalid value encountered in multiply\n"
     ]
    },
    {
     "name": "stdout",
     "output_type": "stream",
     "text": [
      "Progress: 16.1% ... Training loss: nan ... Validation loss: nan"
     ]
    },
    {
     "ename": "KeyboardInterrupt",
     "evalue": "",
     "output_type": "error",
     "traceback": [
      "\u001b[1;31m---------------------------------------------------------------------------\u001b[0m",
      "\u001b[1;31mKeyboardInterrupt\u001b[0m                         Traceback (most recent call last)",
      "\u001b[1;32m<ipython-input-37-16a9709ef32d>\u001b[0m in \u001b[0;36m<module>\u001b[1;34m()\u001b[0m\n\u001b[0;32m     15\u001b[0m     \u001b[0mX\u001b[0m\u001b[1;33m,\u001b[0m \u001b[0my\u001b[0m \u001b[1;33m=\u001b[0m \u001b[0mtrain_features\u001b[0m\u001b[1;33m.\u001b[0m\u001b[0mas_matrix\u001b[0m\u001b[1;33m(\u001b[0m\u001b[1;33m)\u001b[0m\u001b[1;33m,\u001b[0m \u001b[0mtrain_targets\u001b[0m\u001b[1;33m.\u001b[0m\u001b[0mas_matrix\u001b[0m\u001b[1;33m(\u001b[0m\u001b[1;33m)\u001b[0m\u001b[1;33m\u001b[0m\u001b[0m\n\u001b[0;32m     16\u001b[0m \u001b[1;33m\u001b[0m\u001b[0m\n\u001b[1;32m---> 17\u001b[1;33m     \u001b[0mnetwork\u001b[0m\u001b[1;33m.\u001b[0m\u001b[0mtrain\u001b[0m\u001b[1;33m(\u001b[0m\u001b[0mX\u001b[0m\u001b[1;33m,\u001b[0m \u001b[0my\u001b[0m\u001b[1;33m)\u001b[0m\u001b[1;33m\u001b[0m\u001b[0m\n\u001b[0m\u001b[0;32m     18\u001b[0m \u001b[1;33m\u001b[0m\u001b[0m\n\u001b[0;32m     19\u001b[0m     \u001b[1;31m# Printing out the training progress\u001b[0m\u001b[1;33m\u001b[0m\u001b[1;33m\u001b[0m\u001b[0m\n",
      "\u001b[1;32m<ipython-input-33-bf893a6107be>\u001b[0m in \u001b[0;36mtrain\u001b[1;34m(self, features, targets)\u001b[0m\n\u001b[0;32m     52\u001b[0m             \u001b[1;31m### Forward pass ###\u001b[0m\u001b[1;33m\u001b[0m\u001b[1;33m\u001b[0m\u001b[0m\n\u001b[0;32m     53\u001b[0m             \u001b[1;31m# TODO: Hidden layer - Replace these values with your calculations.\u001b[0m\u001b[1;33m\u001b[0m\u001b[1;33m\u001b[0m\u001b[0m\n\u001b[1;32m---> 54\u001b[1;33m             \u001b[0mhidden_inputs\u001b[0m \u001b[1;33m=\u001b[0m \u001b[0mX\u001b[0m\u001b[1;33m.\u001b[0m\u001b[0mdot\u001b[0m\u001b[1;33m(\u001b[0m\u001b[0mweights_input_hidden\u001b[0m\u001b[1;33m)\u001b[0m \u001b[1;31m# signals into hidden layer\u001b[0m\u001b[1;33m\u001b[0m\u001b[0m\n\u001b[0m\u001b[0;32m     55\u001b[0m             \u001b[0mhidden_outputs\u001b[0m \u001b[1;33m=\u001b[0m \u001b[0msigmoid\u001b[0m\u001b[1;33m(\u001b[0m\u001b[0mhidden_inputs\u001b[0m\u001b[1;33m)\u001b[0m \u001b[1;31m# signals from hidden layer\u001b[0m\u001b[1;33m\u001b[0m\u001b[0m\n\u001b[0;32m     56\u001b[0m \u001b[1;33m\u001b[0m\u001b[0m\n",
      "\u001b[1;31mKeyboardInterrupt\u001b[0m: "
     ]
    }
   ],
   "source": [
    "import sys\n",
    "\n",
    "### Set the hyperparameters here ###\n",
    "iterations = 4000\n",
    "learning_rate = 1\n",
    "hidden_nodes = 50\n",
    "output_nodes = 1\n",
    "\n",
    "N_i = train_features.shape[1]\n",
    "network = NeuralNetwork(N_i, hidden_nodes, output_nodes, learning_rate)\n",
    "\n",
    "losses = {'train':[], 'validation':[]}\n",
    "for ii in range(iterations):\n",
    "    # Go through a random batch of 128 records from the training data set\n",
    "    X, y = train_features.as_matrix(), train_targets.as_matrix()\n",
    "                             \n",
    "    network.train(X, y)\n",
    "    \n",
    "    # Printing out the training progress\n",
    "    train_loss = MSE(network.run(train_features).T, train_targets.values)\n",
    "    val_loss = MSE(network.run(val_features).T, val_targets.values)\n",
    "    sys.stdout.write(\"\\rProgress: {:2.1f}\".format(100 * ii/float(iterations)) \\\n",
    "                     + \"% ... Training loss: \" + str(train_loss)[:5] \\\n",
    "                     + \" ... Validation loss: \" + str(val_loss)[:5])\n",
    "    sys.stdout.flush()\n",
    "    \n",
    "    losses['train'].append(train_loss)\n",
    "    losses['validation'].append(val_loss)"
   ]
  },
  {
   "cell_type": "code",
   "execution_count": 23,
   "metadata": {
    "collapsed": false
   },
   "outputs": [
    {
     "data": {
      "text/plain": [
       "3"
      ]
     },
     "execution_count": 23,
     "metadata": {},
     "output_type": "execute_result"
    }
   ],
   "source": [
    "max(1, 2, 3)"
   ]
  }
 ],
 "metadata": {
  "kernelspec": {
   "display_name": "Python 3",
   "language": "python",
   "name": "python3"
  },
  "language_info": {
   "codemirror_mode": {
    "name": "ipython",
    "version": 3
   },
   "file_extension": ".py",
   "mimetype": "text/x-python",
   "name": "python",
   "nbconvert_exporter": "python",
   "pygments_lexer": "ipython3",
   "version": "3.5.2"
  }
 },
 "nbformat": 4,
 "nbformat_minor": 2
}
